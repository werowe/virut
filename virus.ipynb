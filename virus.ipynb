{
 "cells": [
  {
   "cell_type": "code",
   "execution_count": 420,
   "metadata": {},
   "outputs": [],
   "source": [
    "import numpy as np\n",
    "\n",
    "\n",
    "\n"
   ]
  },
  {
   "cell_type": "code",
   "execution_count": 421,
   "metadata": {},
   "outputs": [],
   "source": [
    "import time\n",
    "\n"
   ]
  },
  {
   "cell_type": "code",
   "execution_count": 422,
   "metadata": {},
   "outputs": [],
   "source": [
    "import postgresql\n",
    "db = postgresql.open('pq://walker:livres@walkercodetutorials.codes:5432/virus')"
   ]
  },
  {
   "cell_type": "code",
   "execution_count": 423,
   "metadata": {},
   "outputs": [],
   "source": [
    "# https://pythonhosted.org/py-postgresql/driver.html#cursors\n",
    "ps=db.prepare(\"select * from coronavirusgeo where countryRegion = $1\")\n"
   ]
  },
  {
   "cell_type": "code",
   "execution_count": null,
   "metadata": {},
   "outputs": [],
   "source": [
    " "
   ]
  },
  {
   "cell_type": "code",
   "execution_count": 424,
   "metadata": {},
   "outputs": [],
   "source": [
    "\n",
    "viruses = []\n",
    "for i in ps(\"Cyprus\"):\n",
    "    virus = {}\n",
    "    virus[\"Country\"] = i[1]\n",
    "    virus[\"Date\"] = i[2]\n",
    "    virus[\"Confirmed\"] = i[3]\n",
    "    virus[\"Recovered\"] = i[4]\n",
    "    virus[\"Deaths\"] = i[5]\n",
    "    viruses.append(virus)\n",
    "    "
   ]
  },
  {
   "cell_type": "code",
   "execution_count": 425,
   "metadata": {},
   "outputs": [],
   "source": [
    "import datetime\n",
    "\n",
    "\n",
    "lastDate = 0\n",
    "dates = []\n",
    "confirmed = []\n",
    "for v in viruses:\n",
    "    d = v[\"Date\"]\n",
    "   \n",
    "    timestamp = datetime.datetime(d.year,d.month,d.day,0,0).timestamp()\n",
    "    lastDate = timestamp\n",
    "    dates.append(timestamp)\n",
    "    confirmed.append(float(v[\"Confirmed\"]))"
   ]
  },
  {
   "cell_type": "code",
   "execution_count": 426,
   "metadata": {},
   "outputs": [
    {
     "data": {
      "text/plain": [
       "[{'Confirmed': Decimal('2'),\n",
       "  'Country': 'Cyprus',\n",
       "  'Date': datetime.date(2020, 3, 9),\n",
       "  'Deaths': Decimal('0'),\n",
       "  'Recovered': Decimal('0')},\n",
       " {'Confirmed': Decimal('3'),\n",
       "  'Country': 'Cyprus',\n",
       "  'Date': datetime.date(2020, 3, 10),\n",
       "  'Deaths': Decimal('0'),\n",
       "  'Recovered': Decimal('0')},\n",
       " {'Confirmed': Decimal('6'),\n",
       "  'Country': 'Cyprus',\n",
       "  'Date': datetime.date(2020, 3, 11),\n",
       "  'Deaths': Decimal('0'),\n",
       "  'Recovered': Decimal('0')},\n",
       " {'Confirmed': Decimal('6'),\n",
       "  'Country': 'Cyprus',\n",
       "  'Date': datetime.date(2020, 3, 11),\n",
       "  'Deaths': Decimal('0'),\n",
       "  'Recovered': Decimal('0')},\n",
       " {'Confirmed': Decimal('14'),\n",
       "  'Country': 'Cyprus',\n",
       "  'Date': datetime.date(2020, 3, 11),\n",
       "  'Deaths': Decimal('0'),\n",
       "  'Recovered': Decimal('0')},\n",
       " {'Confirmed': Decimal('26'),\n",
       "  'Country': 'Cyprus',\n",
       "  'Date': datetime.date(2020, 3, 14),\n",
       "  'Deaths': Decimal('0'),\n",
       "  'Recovered': Decimal('0')},\n",
       " {'Confirmed': Decimal('33'),\n",
       "  'Country': 'Cyprus',\n",
       "  'Date': datetime.date(2020, 3, 16),\n",
       "  'Deaths': Decimal('0'),\n",
       "  'Recovered': Decimal('0')},\n",
       " {'Confirmed': Decimal('26'),\n",
       "  'Country': 'Cyprus',\n",
       "  'Date': datetime.date(2020, 3, 14),\n",
       "  'Deaths': Decimal('0'),\n",
       "  'Recovered': Decimal('0')},\n",
       " {'Confirmed': Decimal('26'),\n",
       "  'Country': 'Cyprus',\n",
       "  'Date': datetime.date(2020, 3, 14),\n",
       "  'Deaths': Decimal('0'),\n",
       "  'Recovered': Decimal('0')},\n",
       " {'Confirmed': Decimal('33'),\n",
       "  'Country': 'Cyprus',\n",
       "  'Date': datetime.date(2020, 3, 16),\n",
       "  'Deaths': Decimal('0'),\n",
       "  'Recovered': Decimal('0')},\n",
       " {'Confirmed': Decimal('46'),\n",
       "  'Country': 'Cyprus',\n",
       "  'Date': datetime.date(2020, 3, 17),\n",
       "  'Deaths': Decimal('0'),\n",
       "  'Recovered': Decimal('0')},\n",
       " {'Confirmed': Decimal('49'),\n",
       "  'Country': 'Cyprus',\n",
       "  'Date': datetime.date(2020, 3, 18),\n",
       "  'Deaths': Decimal('0'),\n",
       "  'Recovered': Decimal('0')},\n",
       " {'Confirmed': Decimal('67'),\n",
       "  'Country': 'Cyprus',\n",
       "  'Date': datetime.date(2020, 3, 19),\n",
       "  'Deaths': Decimal('0'),\n",
       "  'Recovered': Decimal('0')},\n",
       " {'Confirmed': Decimal('67'),\n",
       "  'Country': 'Cyprus',\n",
       "  'Date': datetime.date(2020, 3, 19),\n",
       "  'Deaths': Decimal('0'),\n",
       "  'Recovered': Decimal('0')},\n",
       " {'Confirmed': Decimal('84'),\n",
       "  'Country': 'Cyprus',\n",
       "  'Date': datetime.date(2020, 3, 21),\n",
       "  'Deaths': Decimal('0'),\n",
       "  'Recovered': Decimal('0')},\n",
       " {'Confirmed': Decimal('95'),\n",
       "  'Country': 'Cyprus',\n",
       "  'Date': datetime.date(2020, 3, 22),\n",
       "  'Deaths': Decimal('3'),\n",
       "  'Recovered': Decimal('1')}]"
      ]
     },
     "execution_count": 426,
     "metadata": {},
     "output_type": "execute_result"
    }
   ],
   "source": [
    "viruses"
   ]
  },
  {
   "cell_type": "code",
   "execution_count": 427,
   "metadata": {},
   "outputs": [],
   "source": [
    "\n",
    "x = np.array(dates)\n",
    "y = np.array(confirmed)"
   ]
  },
  {
   "cell_type": "code",
   "execution_count": 428,
   "metadata": {},
   "outputs": [
    {
     "name": "stdout",
     "output_type": "stream",
     "text": [
      "projected = 129996.87927261654 * ln(date) -2753735.142112939\n"
     ]
    }
   ],
   "source": [
    "a= np.polyfit(np.log(x), y, 1)\n",
    "    \n",
    "\n",
    "print (\"projected = {0} * ln(date) {1}\".format(a[0],a[1]))"
   ]
  },
  {
   "cell_type": "code",
   "execution_count": 429,
   "metadata": {},
   "outputs": [
    {
     "name": "stdout",
     "output_type": "stream",
     "text": [
      "2020-03-22,  85 \n",
      "2020-03-23,  92 \n",
      "2020-03-24,  99 \n",
      "2020-03-25,  106 \n",
      "2020-03-26,  113 \n",
      "2020-03-27,  120 \n",
      "2020-03-28,  127 \n",
      "2020-03-29,  134 \n",
      "2020-03-30,  141 \n",
      "2020-03-31,  148 \n",
      "2020-04-01,  156 \n",
      "2020-04-02,  163 \n",
      "2020-04-03,  170 \n",
      "2020-04-04,  177 \n",
      "2020-04-05,  184 \n",
      "2020-04-06,  191 \n",
      "2020-04-07,  198 \n",
      "2020-04-08,  205 \n",
      "2020-04-09,  212 \n",
      "2020-04-10,  219 \n",
      "2020-04-11,  226 \n",
      "2020-04-12,  233 \n",
      "2020-04-13,  240 \n",
      "2020-04-14,  248 \n",
      "2020-04-15,  255 \n",
      "2020-04-16,  262 \n",
      "2020-04-17,  269 \n"
     ]
    }
   ],
   "source": [
    "p=[lastDate]\n",
    "\n",
    "for i in range(0,26):\n",
    "    p.append(p[i]+86400)\n",
    "\n",
    " \n",
    "\n",
    "for i in p:\n",
    "    confirmed =  a[0] * np.log(i) + a[1]\n",
    "    day = time.strftime('%Y-%m-%d',time.localtime(i))\n",
    "     \n",
    "    print( \"%s,  %d \"  % (day, confirmed  ))"
   ]
  },
  {
   "cell_type": "code",
   "execution_count": null,
   "metadata": {},
   "outputs": [],
   "source": []
  },
  {
   "cell_type": "code",
   "execution_count": null,
   "metadata": {},
   "outputs": [],
   "source": [
    " \n"
   ]
  },
  {
   "cell_type": "code",
   "execution_count": null,
   "metadata": {},
   "outputs": [],
   "source": [
    " "
   ]
  },
  {
   "cell_type": "code",
   "execution_count": null,
   "metadata": {},
   "outputs": [],
   "source": []
  }
 ],
 "metadata": {
  "kernelspec": {
   "display_name": "Python 3",
   "language": "python",
   "name": "python3"
  },
  "language_info": {
   "codemirror_mode": {
    "name": "ipython",
    "version": 3
   },
   "file_extension": ".py",
   "mimetype": "text/x-python",
   "name": "python",
   "nbconvert_exporter": "python",
   "pygments_lexer": "ipython3",
   "version": "3.4.4"
  }
 },
 "nbformat": 4,
 "nbformat_minor": 2
}
