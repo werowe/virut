{
 "cells": [
  {
   "cell_type": "code",
   "execution_count": null,
   "metadata": {},
   "outputs": [],
   "source": [
    "import urllib.request\n",
    "\n",
    "from datetime import datetime\n",
    "\n",
    "\n",
    "import postgresql\n",
    "db = postgresql.open('pq://walker:livres@walkercodetutorials.codes:5432/virus')\n",
    "\n",
    "ps=db.prepare(\"INSERT INTO coronavirusgeo( provincestate , countryregion,  lastupdate,  latitude, longitude,  confirmed,  deaths , recovered ) VALUES ($1, $2, $3, $4, $5, $6, $7, $8);\")\n",
    "\n",
    "\n",
    "file = '/Users/walkerrowe/Downloads/03-25-2020.csv'\n",
    "\n",
    "i = 0\n",
    "with open(file) as f:\n",
    "     for x in f:\n",
    "        if i == 0:\n",
    "            i = i + 1\n",
    "        else:\n",
    "            l = x.split(\",\")\n",
    "            provincestate =   l[2]  \n",
    "            countryregion =   l[3]  \n",
    "            try:\n",
    "                lastupdate =   datetime.strptime(l[4], '%Y-%m-%d %H:%M:%S')\n",
    "            except ValueError:\n",
    "                lastupdate = datetime.now()\n",
    "            latitude = l[5] \n",
    "            longitude =  l[6] \n",
    "            confirmed = l[7]\n",
    "            deaths = l[8]\n",
    "            recovered = l[9]\n",
    "            # print(provincestate , countryregion,  lastupdate,  latitude, longitude,  confirmed,  deaths , recovered)\n",
    "            ps(provincestate , countryregion,  lastupdate,  latitude, longitude,  confirmed,  deaths , recovered) \n",
    " \n",
    "print(\"done\")    \n",
    " \n",
    "    \n",
    "\n"
   ]
  },
  {
   "cell_type": "code",
   "execution_count": 49,
   "metadata": {},
   "outputs": [
    {
     "data": {
      "text/plain": [
       "datetime.datetime(2020, 3, 26, 12, 1, 20, 52326)"
      ]
     },
     "execution_count": 49,
     "metadata": {},
     "output_type": "execute_result"
    }
   ],
   "source": [
    " \n"
   ]
  },
  {
   "cell_type": "code",
   "execution_count": null,
   "metadata": {},
   "outputs": [],
   "source": []
  }
 ],
 "metadata": {
  "kernelspec": {
   "display_name": "Python 3",
   "language": "python",
   "name": "python3"
  },
  "language_info": {
   "codemirror_mode": {
    "name": "ipython",
    "version": 3
   },
   "file_extension": ".py",
   "mimetype": "text/x-python",
   "name": "python",
   "nbconvert_exporter": "python",
   "pygments_lexer": "ipython3",
   "version": "3.4.4"
  }
 },
 "nbformat": 4,
 "nbformat_minor": 2
}
